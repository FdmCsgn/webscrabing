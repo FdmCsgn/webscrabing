{
 "cells": [
  {
   "cell_type": "code",
   "execution_count": 51,
   "metadata": {},
   "outputs": [],
   "source": [
    "import requests\n",
    "from bs4 import BeautifulSoup\n",
    "from urllib.parse import urljoin\n",
    "import os\n",
    "import re\n"
   ]
  },
  {
   "cell_type": "code",
   "execution_count": 52,
   "metadata": {},
   "outputs": [],
   "source": [
    "# URL ve hedef klasör\n",
    "base_url = \"https://vetrehberi.com/saanen-kecisi/\"\n",
    "output_folder = \"downloaded_images2\"\n",
    "os.makedirs(output_folder, exist_ok=True)  # Hedef klasörü oluştur"
   ]
  },
  {
   "cell_type": "code",
   "execution_count": 53,
   "metadata": {},
   "outputs": [],
   "source": [
    "# Sayfayı indir ve BeautifulSoup ile ayrıştır\n",
    "response = requests.get(base_url)\n",
    "response.raise_for_status()  # Hataları kontrol et\n",
    "soup = BeautifulSoup(response.text, \"html.parser\")"
   ]
  },
  {
   "cell_type": "code",
   "execution_count": 54,
   "metadata": {},
   "outputs": [],
   "source": [
    "# Sayfadaki tüm <img> etiketlerini bul\n",
    "img_tags = soup.find_all(\"img\")"
   ]
  },
  {
   "cell_type": "code",
   "execution_count": 55,
   "metadata": {},
   "outputs": [
    {
     "name": "stdout",
     "output_type": "stream",
     "text": [
      "İndiriliyor: data:image/svg+xml,%3Csvg%20xmlns='http://www.w3.org/2000/svg'%20viewBox='0%200%20230%2041'%3E%3C/svg%3E\n",
      "Görsel indirilemedi: data:image/svg+xml,%3Csvg%20xmlns='http://www.w3.org/2000/svg'%20viewBox='0%200%20230%2041'%3E%3C/svg%3E, Hata: No connection adapters were found for \"data:image/svg+xml,%3Csvg%20xmlns='http://www.w3.org/2000/svg'%20viewBox='0%200%20230%2041'%3E%3C/svg%3E\"\n",
      "İndiriliyor: https://vetrehberi.com/wp-content/uploads/2017/11/logo.png\n",
      "Görsel kaydedildi: downloaded_images2\\logo.png\n",
      "İndiriliyor: data:image/svg+xml,%3Csvg%20xmlns='http://www.w3.org/2000/svg'%20viewBox='0%200%20230%2041'%3E%3C/svg%3E\n",
      "Görsel indirilemedi: data:image/svg+xml,%3Csvg%20xmlns='http://www.w3.org/2000/svg'%20viewBox='0%200%20230%2041'%3E%3C/svg%3E, Hata: No connection adapters were found for \"data:image/svg+xml,%3Csvg%20xmlns='http://www.w3.org/2000/svg'%20viewBox='0%200%20230%2041'%3E%3C/svg%3E\"\n",
      "İndiriliyor: https://vetrehberi.com/wp-content/uploads/2017/11/logo.png\n",
      "Görsel kaydedildi: downloaded_images2\\logo.png\n",
      "İndiriliyor: data:image/svg+xml,%3Csvg%20xmlns='http://www.w3.org/2000/svg'%20viewBox='0%200%20230%2041'%3E%3C/svg%3E\n",
      "Görsel indirilemedi: data:image/svg+xml,%3Csvg%20xmlns='http://www.w3.org/2000/svg'%20viewBox='0%200%20230%2041'%3E%3C/svg%3E, Hata: No connection adapters were found for \"data:image/svg+xml,%3Csvg%20xmlns='http://www.w3.org/2000/svg'%20viewBox='0%200%20230%2041'%3E%3C/svg%3E\"\n",
      "İndiriliyor: https://vetrehberi.com/wp-content/uploads/2017/11/logo.png\n",
      "Görsel kaydedildi: downloaded_images2\\logo.png\n",
      "İndiriliyor: data:image/svg+xml,%3Csvg%20xmlns='http://www.w3.org/2000/svg'%20viewBox='0%200%2080%2080'%3E%3C/svg%3E\n",
      "Görsel indirilemedi: data:image/svg+xml,%3Csvg%20xmlns='http://www.w3.org/2000/svg'%20viewBox='0%200%2080%2080'%3E%3C/svg%3E, Hata: No connection adapters were found for \"data:image/svg+xml,%3Csvg%20xmlns='http://www.w3.org/2000/svg'%20viewBox='0%200%2080%2080'%3E%3C/svg%3E\"\n",
      "İndiriliyor: https://secure.gravatar.com/avatar/d02a48e4eafec6d488e4613ce8e0d0e2?s=80&d=mm&r=g\n",
      "Görsel kaydedildi: downloaded_images2\\d02a48e4eafec6d488e4613ce8e0d0e2_s=80&d=mm&r=g\n",
      "İndiriliyor: data:image/svg+xml,%3Csvg%20xmlns='http://www.w3.org/2000/svg'%20viewBox='0%200%20729%20375'%3E%3C/svg%3E\n",
      "Görsel indirilemedi: data:image/svg+xml,%3Csvg%20xmlns='http://www.w3.org/2000/svg'%20viewBox='0%200%20729%20375'%3E%3C/svg%3E, Hata: No connection adapters were found for \"data:image/svg+xml,%3Csvg%20xmlns='http://www.w3.org/2000/svg'%20viewBox='0%200%20729%20375'%3E%3C/svg%3E\"\n",
      "İndiriliyor: https://vetrehberi.com/wp-content/uploads/2017/03/Saanen-Keci-si-729x375.jpg\n",
      "Görsel kaydedildi: downloaded_images2\\Saanen-Keci-si-729x375.jpg\n",
      "İndiriliyor: data:image/svg+xml,%3Csvg%20xmlns='http://www.w3.org/2000/svg'%20viewBox='0%200%20300%20221'%3E%3C/svg%3E\n",
      "Görsel indirilemedi: data:image/svg+xml,%3Csvg%20xmlns='http://www.w3.org/2000/svg'%20viewBox='0%200%20300%20221'%3E%3C/svg%3E, Hata: No connection adapters were found for \"data:image/svg+xml,%3Csvg%20xmlns='http://www.w3.org/2000/svg'%20viewBox='0%200%20300%20221'%3E%3C/svg%3E\"\n",
      "İndiriliyor: https://www.vetrehberi.com/wp-content/uploads/2017/03/Saanen-Kecisi-1-300x221.jpg\n",
      "Görsel kaydedildi: downloaded_images2\\Saanen-Kecisi-1-300x221.jpg\n",
      "İndiriliyor: data:image/svg+xml,%3Csvg%20xmlns='http://www.w3.org/2000/svg'%20viewBox='0%200%20261%20300'%3E%3C/svg%3E\n",
      "Görsel indirilemedi: data:image/svg+xml,%3Csvg%20xmlns='http://www.w3.org/2000/svg'%20viewBox='0%200%20261%20300'%3E%3C/svg%3E, Hata: No connection adapters were found for \"data:image/svg+xml,%3Csvg%20xmlns='http://www.w3.org/2000/svg'%20viewBox='0%200%20261%20300'%3E%3C/svg%3E\"\n",
      "İndiriliyor: https://www.vetrehberi.com/wp-content/uploads/2017/03/Saanen-Kecisi-261x300.jpg\n",
      "Görsel kaydedildi: downloaded_images2\\Saanen-Kecisi-261x300.jpg\n",
      "İndiriliyor: data:image/svg+xml,%3Csvg%20xmlns='http://www.w3.org/2000/svg'%20viewBox='0%200%20230%2041'%3E%3C/svg%3E\n",
      "Görsel indirilemedi: data:image/svg+xml,%3Csvg%20xmlns='http://www.w3.org/2000/svg'%20viewBox='0%200%20230%2041'%3E%3C/svg%3E, Hata: No connection adapters were found for \"data:image/svg+xml,%3Csvg%20xmlns='http://www.w3.org/2000/svg'%20viewBox='0%200%20230%2041'%3E%3C/svg%3E\"\n",
      "İndiriliyor: https://vetrehberi.com/wp-content/uploads/2017/11/footer-logo.png\n",
      "Görsel kaydedildi: downloaded_images2\\footer-logo.png\n",
      "İndiriliyor: data:image/svg+xml,%3Csvg%20xmlns='http://www.w3.org/2000/svg'%20viewBox='0%200%20130%2039'%3E%3C/svg%3E\n",
      "Görsel indirilemedi: data:image/svg+xml,%3Csvg%20xmlns='http://www.w3.org/2000/svg'%20viewBox='0%200%20130%2039'%3E%3C/svg%3E, Hata: No connection adapters were found for \"data:image/svg+xml,%3Csvg%20xmlns='http://www.w3.org/2000/svg'%20viewBox='0%200%20130%2039'%3E%3C/svg%3E\"\n",
      "İndiriliyor: https://vetrehberi.com/wp-content/uploads/2023/07/Google-Play.png\n",
      "Görsel kaydedildi: downloaded_images2\\Google-Play.png\n",
      "İndiriliyor: data:image/svg+xml,%3Csvg%20xmlns='http://www.w3.org/2000/svg'%20viewBox='0%200%20110%2039'%3E%3C/svg%3E\n",
      "Görsel indirilemedi: data:image/svg+xml,%3Csvg%20xmlns='http://www.w3.org/2000/svg'%20viewBox='0%200%20110%2039'%3E%3C/svg%3E, Hata: No connection adapters were found for \"data:image/svg+xml,%3Csvg%20xmlns='http://www.w3.org/2000/svg'%20viewBox='0%200%20110%2039'%3E%3C/svg%3E\"\n",
      "İndiriliyor: https://vetrehberi.com/wp-content/uploads/2024/08/App-Store.jpg\n",
      "Görsel kaydedildi: downloaded_images2\\App-Store.jpg\n",
      "İndiriliyor: data:image/svg+xml,%3Csvg%20xmlns='http://www.w3.org/2000/svg'%20viewBox='0%200%20130%2039'%3E%3C/svg%3E\n",
      "Görsel indirilemedi: data:image/svg+xml,%3Csvg%20xmlns='http://www.w3.org/2000/svg'%20viewBox='0%200%20130%2039'%3E%3C/svg%3E, Hata: No connection adapters were found for \"data:image/svg+xml,%3Csvg%20xmlns='http://www.w3.org/2000/svg'%20viewBox='0%200%20130%2039'%3E%3C/svg%3E\"\n",
      "İndiriliyor: https://vetrehberi.com/wp-content/uploads/2023/07/AppGallery.png\n",
      "Görsel kaydedildi: downloaded_images2\\AppGallery.png\n"
     ]
    }
   ],
   "source": [
    "for img in img_tags:\n",
    "    img_src = img.get(\"src\")  # Görsel kaynağı\n",
    "    if img_src:  # Eğer src varsa\n",
    "        # Görsel URL'sini tam bir URL'ye dönüştür\n",
    "        img_url = urljoin(base_url, img_src)\n",
    "        print(f\"İndiriliyor: {img_url}\")\n",
    "\n",
    "        try:\n",
    "            # Görseli indir\n",
    "            img_data = requests.get(img_url).content\n",
    "\n",
    "            # Geçerli bir dosya adı oluştur\n",
    "            img_name = os.path.basename(img_src)\n",
    "            img_name = re.sub(r'[<>:\"/\\\\|?*]', '_', img_name)  # Geçersiz karakterleri temizle\n",
    "            file_path = os.path.join(output_folder, img_name)\n",
    "\n",
    "            # Görseli kaydet\n",
    "            with open(file_path, \"wb\") as f:\n",
    "                f.write(img_data)\n",
    "            print(f\"Görsel kaydedildi: {file_path}\")\n",
    "        except Exception as e:\n",
    "            print(f\"Görsel indirilemedi: {img_url}, Hata: {e}\")"
   ]
  }
 ],
 "metadata": {
  "kernelspec": {
   "display_name": ".venv",
   "language": "python",
   "name": "python3"
  },
  "language_info": {
   "codemirror_mode": {
    "name": "ipython",
    "version": 3
   },
   "file_extension": ".py",
   "mimetype": "text/x-python",
   "name": "python",
   "nbconvert_exporter": "python",
   "pygments_lexer": "ipython3",
   "version": "3.12.6"
  }
 },
 "nbformat": 4,
 "nbformat_minor": 2
}
